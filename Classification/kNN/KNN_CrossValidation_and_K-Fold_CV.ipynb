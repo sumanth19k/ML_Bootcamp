{
 "cells": [
  {
   "cell_type": "code",
   "execution_count": 4,
   "metadata": {},
   "outputs": [],
   "source": [
    "import numpy as np\n",
    "import pandas as pd\n",
    "import matplotlib.pyplot as plt\n",
    "from sklearn.model_selection import train_test_split\n",
    "from sklearn.neighbors import KNeighborsClassifier\n",
    "from sklearn.metrics import accuracy_score\n",
    "from sklearn.model_selection import cross_val_score\n",
    "from collections import Counter\n",
    "from sklearn.metrics import accuracy_score\n",
    "# from sklearn import cross_validation"
   ]
  },
  {
   "cell_type": "code",
   "execution_count": 5,
   "metadata": {},
   "outputs": [],
   "source": [
    "# defining names of cols\n",
    "names=['a','b','class']\n",
    "\n",
    "#loading Training Data\n",
    "df = pd.read_csv('demo_data/3.concertriccir2.csv',header = None,names=names)"
   ]
  },
  {
   "cell_type": "code",
   "execution_count": 6,
   "metadata": {},
   "outputs": [
    {
     "data": {
      "text/html": [
       "<div>\n",
       "<style scoped>\n",
       "    .dataframe tbody tr th:only-of-type {\n",
       "        vertical-align: middle;\n",
       "    }\n",
       "\n",
       "    .dataframe tbody tr th {\n",
       "        vertical-align: top;\n",
       "    }\n",
       "\n",
       "    .dataframe thead th {\n",
       "        text-align: right;\n",
       "    }\n",
       "</style>\n",
       "<table border=\"1\" class=\"dataframe\">\n",
       "  <thead>\n",
       "    <tr style=\"text-align: right;\">\n",
       "      <th></th>\n",
       "      <th>a</th>\n",
       "      <th>b</th>\n",
       "      <th>class</th>\n",
       "    </tr>\n",
       "  </thead>\n",
       "  <tbody>\n",
       "    <tr>\n",
       "      <th>0</th>\n",
       "      <td>0.700335</td>\n",
       "      <td>-0.247068</td>\n",
       "      <td>0.0</td>\n",
       "    </tr>\n",
       "    <tr>\n",
       "      <th>1</th>\n",
       "      <td>-3.950019</td>\n",
       "      <td>2.740080</td>\n",
       "      <td>1.0</td>\n",
       "    </tr>\n",
       "    <tr>\n",
       "      <th>2</th>\n",
       "      <td>0.150222</td>\n",
       "      <td>-2.157638</td>\n",
       "      <td>1.0</td>\n",
       "    </tr>\n",
       "    <tr>\n",
       "      <th>3</th>\n",
       "      <td>-1.672050</td>\n",
       "      <td>-0.941519</td>\n",
       "      <td>1.0</td>\n",
       "    </tr>\n",
       "    <tr>\n",
       "      <th>4</th>\n",
       "      <td>2.560483</td>\n",
       "      <td>-1.846577</td>\n",
       "      <td>1.0</td>\n",
       "    </tr>\n",
       "  </tbody>\n",
       "</table>\n",
       "</div>"
      ],
      "text/plain": [
       "          a         b  class\n",
       "0  0.700335 -0.247068    0.0\n",
       "1 -3.950019  2.740080    1.0\n",
       "2  0.150222 -2.157638    1.0\n",
       "3 -1.672050 -0.941519    1.0\n",
       "4  2.560483 -1.846577    1.0"
      ]
     },
     "execution_count": 6,
     "metadata": {},
     "output_type": "execute_result"
    }
   ],
   "source": [
    "df.head()"
   ]
  },
  {
   "cell_type": "code",
   "execution_count": 7,
   "metadata": {},
   "outputs": [
    {
     "data": {
      "text/plain": [
       "(500, 3)"
      ]
     },
     "execution_count": 7,
     "metadata": {},
     "output_type": "execute_result"
    }
   ],
   "source": [
    "df.shape"
   ]
  },
  {
   "cell_type": "code",
   "execution_count": 16,
   "metadata": {},
   "outputs": [],
   "source": [
    "# creating Matrix 'x' and target vector 'y'\n",
    "\n",
    "# this is total data framei.e converting df to numpy array\n",
    "x = np.array(df.iloc[:,0:4])\n",
    "\n",
    "# this is only class labels of data\n",
    "y = np.array(df['class'])\n"
   ]
  },
  {
   "cell_type": "code",
   "execution_count": 17,
   "metadata": {},
   "outputs": [
    {
     "data": {
      "text/plain": [
       "array([[ 0.70033457, -0.24706758,  0.        ],\n",
       "       [-3.95001869,  2.74007953,  1.        ],\n",
       "       [ 0.15022162, -2.1576378 ,  1.        ],\n",
       "       ...,\n",
       "       [ 0.89418044,  3.06995865,  0.        ],\n",
       "       [ 0.84943908,  3.87543489,  0.        ],\n",
       "       [ 5.21744335,  1.40081765,  0.        ]])"
      ]
     },
     "execution_count": 17,
     "metadata": {},
     "output_type": "execute_result"
    }
   ],
   "source": [
    "x"
   ]
  },
  {
   "cell_type": "markdown",
   "metadata": {},
   "source": [
    "## Simple Cross Validation"
   ]
  },
  {
   "cell_type": "code",
   "execution_count": 18,
   "metadata": {},
   "outputs": [],
   "source": [
    "#splitting the train and test data\n",
    "\n",
    "x_1, x_test, y_1, y_test = train_test_split(x,y, test_size=0.3, random_state=0)\n",
    "\n",
    "#splitting the train data into 2 parts CrossValidation_Train and CrossValidation_test\n",
    "\n",
    "x_tr, x_cv, y_tr, y_cv = train_test_split(x_1, y_1, test_size=0.3)\n",
    "\n"
   ]
  },
  {
   "cell_type": "code",
   "execution_count": 19,
   "metadata": {},
   "outputs": [
    {
     "name": "stdout",
     "output_type": "stream",
     "text": [
      "\n",
      " CV Accuracy for k = 1 is 100 %\n",
      "\n",
      " CV Accuracy for k = 3 is 100 %\n",
      "\n",
      " CV Accuracy for k = 5 is 100 %\n",
      "\n",
      " CV Accuracy for k = 7 is 100 %\n",
      "\n",
      " CV Accuracy for k = 9 is 99 %\n",
      "\n",
      " CV Accuracy for k = 11 is 98 %\n",
      "\n",
      " CV Accuracy for k = 13 is 97 %\n",
      "\n",
      " CV Accuracy for k = 15 is 93 %\n",
      "\n",
      " CV Accuracy for k = 17 is 92 %\n",
      "\n",
      " CV Accuracy for k = 19 is 90 %\n",
      "\n",
      " CV Accuracy for k = 21 is 85 %\n",
      "\n",
      " CV Accuracy for k = 23 is 82 %\n",
      "\n",
      " CV Accuracy for k = 25 is 80 %\n",
      "\n",
      " CV Accuracy for k = 27 is 78 %\n",
      "\n",
      " CV Accuracy for k = 29 is 77 %\n"
     ]
    }
   ],
   "source": [
    "for i in range(1,30,2):\n",
    "    # k = 1,3,5,7,...29\n",
    "    knn = KNeighborsClassifier(n_neighbors=i)\n",
    "    \n",
    "    # fit the modelon CV Train\n",
    "    knn.fit(x_tr, y_tr)\n",
    "    \n",
    "    #Taking Cv data and passing it to the trained data to predict\n",
    "    pred = knn.predict(x_cv)\n",
    "    \n",
    "    # Evaluating CV accuracy i.e Model Accuracy\n",
    "    # y_cv is actual label and pred is predicted label\n",
    "    acc = accuracy_score(y_cv, pred, normalize=True) * float(100)\n",
    "    print('\\n CV Accuracy for k = %d is %d %%' %(i,acc))\n",
    "\n",
    "\n",
    "    "
   ]
  },
  {
   "cell_type": "markdown",
   "metadata": {},
   "source": [
    "#### Now Lets test the Accuracy on Test Data"
   ]
  },
  {
   "cell_type": "code",
   "execution_count": 20,
   "metadata": {},
   "outputs": [
    {
     "name": "stdout",
     "output_type": "stream",
     "text": [
      "Test Accuracy for k=1 is 98 %\n"
     ]
    }
   ],
   "source": [
    "knn = KNeighborsClassifier(n_neighbors=1)\n",
    "knn.fit(x_tr,y_tr)\n",
    "\n",
    "pred = knn.predict(x_test)\n",
    "\n",
    "acc = accuracy_score(y_test, pred, normalize=True )*float(100)\n",
    "\n",
    "print('Test Accuracy for k=1 is %d %%' %(acc))"
   ]
  },
  {
   "cell_type": "markdown",
   "metadata": {},
   "source": [
    "Observation :<br>\n",
    "Accuracy for Cross Validation Data is 100% when k=1<br>\n",
    "Accuracy for Test Data is 98% when k=1"
   ]
  },
  {
   "cell_type": "markdown",
   "metadata": {},
   "source": [
    "## k-fold Cross Validation"
   ]
  },
  {
   "cell_type": "code",
   "execution_count": 21,
   "metadata": {},
   "outputs": [
    {
     "name": "stdout",
     "output_type": "stream",
     "text": [
      "\n",
      "The optimal number of neighbors is 1.\n"
     ]
    },
    {
     "data": {
      "image/png": "[encoded data removed]",
      "text/plain": [
       "<Figure size 432x288 with 1 Axes>"
      ]
     },
     "metadata": {
      "needs_background": "light"
     },
     "output_type": "display_data"
    },
    {
     "name": "stdout",
     "output_type": "stream",
     "text": [
      "the misclassification error for each k value is :  [0.    0.    0.    0.    0.    0.    0.003 0.011 0.017 0.031 0.037 0.049\n",
      " 0.063 0.089 0.097 0.12  0.14  0.163 0.183 0.197 0.209 0.226 0.243 0.246\n",
      " 0.286]\n",
      "*********************************************************************\n",
      "optimal k value is:  1\n"
     ]
    }
   ],
   "source": [
    "#creating odd list of vals for 'k'\n",
    "\n",
    "li = list(range(0,50))\n",
    "neighbors = list(filter(lambda x: x%2 != 0,li))\n",
    "\n",
    "#empty list to hold CV scores/accuracy\n",
    "cv_scores = []\n",
    "\n",
    "# perform 10-fold cross validation\n",
    "for k in neighbors:\n",
    "    knn = KNeighborsClassifier(n_neighbors=k)\n",
    "    scores = cross_val_score(knn, x_1, y_1, cv=10, scoring='accuracy')\n",
    "    cv_scores.append(scores.mean())\n",
    "\n",
    "# changing to misclassification error\n",
    "MSE = [1 - x for x in cv_scores]\n",
    "\n",
    "# determining best k\n",
    "optimal_k = neighbors[MSE.index(min(MSE))]\n",
    "print('\\nThe optimal number of neighbors is %d.' % optimal_k)\n",
    "\n",
    "# plot misclassification error vs k \n",
    "plt.plot(neighbors, MSE)\n",
    "\n",
    "for xy in zip(neighbors, np.round(MSE,3)):\n",
    "    plt.annotate('(%s, %s)' % xy, xy=xy, textcoords='data')\n",
    "\n",
    "plt.xlabel('Number of Neighbors K')\n",
    "plt.ylabel('Misclassification Error')\n",
    "plt.show()\n",
    "\n",
    "print(\"the misclassification error for each k value is : \", np.round(MSE,3))\n",
    "print('*********************************************************************')\n",
    "print(\"optimal k value is: \",optimal_k)"
   ]
  },
  {
   "cell_type": "code",
   "execution_count": 22,
   "metadata": {},
   "outputs": [
    {
     "name": "stdout",
     "output_type": "stream",
     "text": [
      "\n",
      "The accuracy of the knn classifier for k = 1 is 99.333333%\n"
     ]
    }
   ],
   "source": [
    "# ============================== KNN with k = optimal_k ===============================================\n",
    "# instantiate learning model k = optimal_k\n",
    "knn_optimal = KNeighborsClassifier(n_neighbors=optimal_k)\n",
    "\n",
    "# fitting the model\n",
    "knn_optimal.fit(x_1, y_1)\n",
    "\n",
    "# predict the response\n",
    "pred = knn_optimal.predict(x_test)\n",
    "\n",
    "# evaluate accuracy\n",
    "acc = accuracy_score(y_test, pred) * 100\n",
    "print('\\nThe accuracy of the knn classifier for k = %d is %f%%' % (optimal_k, acc))"
   ]
  },
  {
   "cell_type": "code",
   "execution_count": null,
   "metadata": {},
   "outputs": [],
   "source": []
  }
 ],
 "metadata": {
  "kernelspec": {
   "display_name": "Python 3",
   "language": "python",
   "name": "python3"
  },
  "language_info": {
   "codemirror_mode": {
    "name": "ipython",
    "version": 3
   },
   "file_extension": ".py",
   "mimetype": "text/x-python",
   "name": "python",
   "nbconvert_exporter": "python",
   "pygments_lexer": "ipython3",
   "version": "3.8.8"
  }
 },
 "nbformat": 4,
 "nbformat_minor": 2
}
