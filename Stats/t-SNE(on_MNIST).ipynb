{
 "cells": [
  {
   "cell_type": "markdown",
   "metadata": {},
   "source": [
    "# t-SNE(T-Distributed Stochastic Neighborhood Embedding)"
   ]
  },
  {
   "cell_type": "markdown",
   "metadata": {},
   "source": [
    "Its a best Dimensionality Reduction Technique and its most widely used for Visualization.<br>\n",
    "Its Most advanced Technique that PCA"
   ]
  },
  {
   "cell_type": "markdown",
   "metadata": {},
   "source": [
    "<img src=\"images/tsne1.png\">"
   ]
  },
  {
   "cell_type": "markdown",
   "metadata": {},
   "source": [
    "Disadvantage of PCA  is it doesnt consider the distance between the point but it considers if the points lie in one direction which doesnt give good result."
   ]
  },
  {
   "cell_type": "markdown",
   "metadata": {},
   "source": [
    "Advantage of tSNE is it preserves Local Strctures i.e in the above fig there are two outliers They are local structures, Global structure is nothing but the entire plot.\n",
    "<br>\n",
    "Tsne can even preserve the global structure by changing one param in the method."
   ]
  },
  {
   "cell_type": "markdown",
   "metadata": {},
   "source": [
    "## Understanding The Terms of T-SNE"
   ]
  },
  {
   "cell_type": "markdown",
   "metadata": {},
   "source": [
    "### Neighbourhood"
   ]
  },
  {
   "cell_type": "markdown",
   "metadata": {},
   "source": [
    "Its ntg but if we consider a point from the bunch of points and calculate the distance b/w this pt and other pt and if the distance is small then these points are Neighbouring points."
   ]
  },
  {
   "cell_type": "markdown",
   "metadata": {},
   "source": [
    "### Embedding"
   ]
  },
  {
   "cell_type": "markdown",
   "metadata": {},
   "source": [
    "Its the process of placing point of N-Dimension in low dimension space. "
   ]
  },
  {
   "cell_type": "markdown",
   "metadata": {},
   "source": [
    "## Geometric Intution of t-SNE"
   ]
  },
  {
   "cell_type": "markdown",
   "metadata": {},
   "source": [
    "<img src=\"images/tsne2.png\">"
   ]
  },
  {
   "cell_type": "markdown",
   "metadata": {},
   "source": [
    "Observation: Here in t-SNE while converting from d-dim to 2-dim we will preserve the distance between the points but it will not preserve the distance between the points which are in diff clusters."
   ]
  },
  {
   "cell_type": "markdown",
   "metadata": {},
   "source": [
    "## Crowding Problem"
   ]
  },
  {
   "cell_type": "markdown",
   "metadata": {},
   "source": [
    "<img src=\"images/tsne3.png\">"
   ]
  },
  {
   "cell_type": "markdown",
   "metadata": {},
   "source": [
    "Crowding Problem: In the above case while converting from 2d to 1d we are not able to preserve every neighbourhood points distance for example in our case the neighbours of x4 are x1 and x3 but if we want to plot that in 1d either x4 can be placed near x1 or near x3, i.e if we place near x1 the distance between x4 and x3 will be 3*d not d, This is Crowding Problem its the major drawback of SNE, to AVOIDE THIS WE USE t-SNE."
   ]
  },
  {
   "cell_type": "markdown",
   "metadata": {},
   "source": [
    "# How to apply t-SNE & Interpret its o/p"
   ]
  },
  {
   "cell_type": "markdown",
   "metadata": {},
   "source": [
    "http://distill.pub/2016/misread-tsne/"
   ]
  },
  {
   "cell_type": "markdown",
   "metadata": {},
   "source": [
    "<img src=\"images/tsne4.png\">"
   ]
  },
  {
   "cell_type": "markdown",
   "metadata": {},
   "source": [
    "Explanation of Terms from above fig:<br>\n",
    "\n",
    "### Perplexity:\n",
    "For example Perplexity=10 then it preserves the distance of 10 neighbouring points.<br>\n",
    "\n",
    "From the above fig we can observe if perplexity is increasing the plot is getting stablized at perplexity=50 the plot is stable.<br>\n",
    "\n",
    "When Perplexity=100 the plot is unstable as in this case they have taken only 100 data points and p=100 i.e every point is neighbour of every other point i.e point less...\n",
    "\n",
    "#### Rule 1: Perplexity should be less than no.of data points\n",
    "#### Rule 2: Check ur plot with different no.of perplexities i.e increase the perplexity until the plot is stable\n",
    "\n"
   ]
  },
  {
   "cell_type": "markdown",
   "metadata": {},
   "source": [
    "<img src=\"images/tsne5.png\">"
   ]
  },
  {
   "cell_type": "markdown",
   "metadata": {},
   "source": [
    "### Step:\n",
    "Its ntg but the no.of iterations the algo runs..\n",
    "\n",
    "#### t-SNE is Stochastic/probabilistic Distribution i.e every time we run the algo the result varies so we will run the algo until plot is stable i.e after some no.of iterations the graph will not change i.e its stable, Examples in the above link. "
   ]
  },
  {
   "cell_type": "markdown",
   "metadata": {},
   "source": [
    "Disadvantage of t-SNE is we cannot say whether a cluster is dense or sparse"
   ]
  },
  {
   "cell_type": "markdown",
   "metadata": {},
   "source": [
    "#### Note: Distance between the clusters mean nothing i.e It doesnt preserve distance between clusters"
   ]
  },
  {
   "cell_type": "markdown",
   "metadata": {},
   "source": [
    "# t-SNE on MNIST"
   ]
  },
  {
   "cell_type": "markdown",
   "metadata": {},
   "source": [
    "http://colah.github.io/posts/2014-10-Visualizing-MNIST/"
   ]
  },
  {
   "cell_type": "markdown",
   "metadata": {},
   "source": [
    "t-SNE groups points based on the Visual SImilarity"
   ]
  },
  {
   "cell_type": "markdown",
   "metadata": {},
   "source": [
    "# Check t-SNE on MNIST code in MNIST_DATA_SET_784_Dimensions.ipynb file."
   ]
  },
  {
   "cell_type": "code",
   "execution_count": 1,
   "metadata": {},
   "outputs": [],
   "source": []
  },
  {
   "cell_type": "code",
   "execution_count": null,
   "metadata": {},
   "outputs": [],
   "source": []
  },
  {
   "cell_type": "code",
   "execution_count": null,
   "metadata": {},
   "outputs": [],
   "source": []
  }
 ],
 "metadata": {
  "kernelspec": {
   "display_name": "Python 3",
   "language": "python",
   "name": "python3"
  },
  "language_info": {
   "codemirror_mode": {
    "name": "ipython",
    "version": 3
   },
   "file_extension": ".py",
   "mimetype": "text/x-python",
   "name": "python",
   "nbconvert_exporter": "python",
   "pygments_lexer": "ipython3",
   "version": "3.6.4"
  }
 },
 "nbformat": 4,
 "nbformat_minor": 2
}
