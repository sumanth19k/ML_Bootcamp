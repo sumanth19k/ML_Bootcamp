{
 "cells": [
  {
   "cell_type": "code",
   "execution_count": 2,
   "id": "9eb4b845",
   "metadata": {},
   "outputs": [],
   "source": [
    "import pandas as pd\n",
    "import numpy as np\n",
    "import matplotlib.pyplot as plt"
   ]
  },
  {
   "cell_type": "code",
   "execution_count": 3,
   "id": "10929b66",
   "metadata": {},
   "outputs": [],
   "source": [
    "x = np.array([126, 128, 128, 130, 130, 132])\n",
    "y = np.array([78, 80, 82,82,84,86])"
   ]
  },
  {
   "cell_type": "code",
   "execution_count": 4,
   "id": "b30f10cf",
   "metadata": {},
   "outputs": [
    {
     "data": {
      "text/plain": [
       "<matplotlib.collections.PathCollection at 0x1ead1d34220>"
      ]
     },
     "execution_count": 4,
     "metadata": {},
     "output_type": "execute_result"
    },
    {
     "data": {
      "image/png": "[encoded data removed]",
      "text/plain": [
       "<Figure size 432x288 with 1 Axes>"
      ]
     },
     "metadata": {
      "needs_background": "light"
     },
     "output_type": "display_data"
    }
   ],
   "source": [
    "plt.scatter(x,y)"
   ]
  },
  {
   "cell_type": "markdown",
   "id": "0bf112cd",
   "metadata": {},
   "source": [
    "# 1.Column Standardization"
   ]
  },
  {
   "cell_type": "code",
   "execution_count": 7,
   "id": "22bad9ea",
   "metadata": {},
   "outputs": [],
   "source": [
    "x1 = x-x.mean()\n",
    "y1 = y-y.mean()"
   ]
  },
  {
   "cell_type": "markdown",
   "id": "07aa6cad",
   "metadata": {},
   "source": [
    "# 2.Covariance matrix"
   ]
  },
  {
   "cell_type": "markdown",
   "id": "e1d76be7",
   "metadata": {},
   "source": [
    "### (transpose(x).x)/n-1"
   ]
  },
  {
   "cell_type": "code",
   "execution_count": 19,
   "id": "372a25ec",
   "metadata": {},
   "outputs": [
    {
     "data": {
      "text/plain": [
       "(2, 6)"
      ]
     },
     "execution_count": 19,
     "metadata": {},
     "output_type": "execute_result"
    }
   ],
   "source": [
    "X = np.array([x1, y1])\n",
    "X.shape"
   ]
  },
  {
   "cell_type": "code",
   "execution_count": 24,
   "id": "9b273f86",
   "metadata": {},
   "outputs": [],
   "source": [
    "x_res = X.dot(X.transpose())\n",
    "\n",
    "S = x_res/5"
   ]
  },
  {
   "cell_type": "markdown",
   "id": "d2dc9584",
   "metadata": {},
   "source": [
    "# 3. Eigen values & vectors of S"
   ]
  },
  {
   "cell_type": "code",
   "execution_count": 26,
   "id": "94d20dfb",
   "metadata": {},
   "outputs": [],
   "source": [
    "import numpy.linalg as LA"
   ]
  },
  {
   "cell_type": "code",
   "execution_count": 28,
   "id": "daedd1f8",
   "metadata": {},
   "outputs": [],
   "source": [
    "w, v = LA.eig(S)"
   ]
  },
  {
   "cell_type": "code",
   "execution_count": 31,
   "id": "0ec67106",
   "metadata": {},
   "outputs": [
    {
     "data": {
      "text/plain": [
       "array([ 0.31782353, 12.08217647])"
      ]
     },
     "execution_count": 31,
     "metadata": {},
     "output_type": "execute_result"
    }
   ],
   "source": [
    "w\n",
    "\n",
    "# Eigen values"
   ]
  },
  {
   "cell_type": "code",
   "execution_count": 34,
   "id": "8141fbf9",
   "metadata": {},
   "outputs": [
    {
     "data": {
      "text/plain": [
       "array([[-0.80808699, -0.58906316],\n",
       "       [ 0.58906316, -0.80808699]])"
      ]
     },
     "execution_count": 34,
     "metadata": {},
     "output_type": "execute_result"
    }
   ],
   "source": [
    "v\n",
    "\n",
    "# returns Eigen vectors in normalized form"
   ]
  },
  {
   "cell_type": "markdown",
   "id": "9c0cebaa",
   "metadata": {},
   "source": [
    "# 4. Calculate principal components"
   ]
  },
  {
   "cell_type": "code",
   "execution_count": 37,
   "id": "56f153b0",
   "metadata": {},
   "outputs": [],
   "source": [
    "X1 = X.transpose()"
   ]
  },
  {
   "cell_type": "code",
   "execution_count": 38,
   "id": "be658292",
   "metadata": {},
   "outputs": [
    {
     "data": {
      "text/plain": [
       "array([[ 0.06800833,  4.99953747],\n",
       "       [-0.37003933,  2.20523715],\n",
       "       [ 0.80808699,  0.58906316],\n",
       "       [-0.80808699, -0.58906316],\n",
       "       [ 0.37003933, -2.20523715],\n",
       "       [-0.06800833, -4.99953747]])"
      ]
     },
     "execution_count": 38,
     "metadata": {},
     "output_type": "execute_result"
    }
   ],
   "source": [
    "PC = X1.dot(v)\n",
    "PC"
   ]
  },
  {
   "cell_type": "code",
   "execution_count": 42,
   "id": "6eef9248",
   "metadata": {},
   "outputs": [],
   "source": [
    "# variance of PC2>PC1"
   ]
  },
  {
   "cell_type": "code",
   "execution_count": 46,
   "id": "3735d1f7",
   "metadata": {},
   "outputs": [],
   "source": [
    "y = PC.transpose()[0]\n",
    "x = PC.transpose()[1]"
   ]
  },
  {
   "cell_type": "code",
   "execution_count": 59,
   "id": "6148a8c1",
   "metadata": {},
   "outputs": [
    {
     "data": {
      "image/png": "[encoded data removed]",
      "text/plain": [
       "<Figure size 432x288 with 1 Axes>"
      ]
     },
     "metadata": {
      "needs_background": "light"
     },
     "output_type": "display_data"
    }
   ],
   "source": [
    "plt.scatter(x,y)\n",
    "plt.ylim(-5, 5)\n",
    "plt.axhline(0, color='red')\n",
    "plt.axvline(0, color='red')\n",
    "plt.show()"
   ]
  },
  {
   "cell_type": "code",
   "execution_count": null,
   "id": "4d0e14af",
   "metadata": {},
   "outputs": [],
   "source": []
  }
 ],
 "metadata": {
  "kernelspec": {
   "display_name": "Python 3",
   "language": "python",
   "name": "python3"
  },
  "language_info": {
   "codemirror_mode": {
    "name": "ipython",
    "version": 3
   },
   "file_extension": ".py",
   "mimetype": "text/x-python",
   "name": "python",
   "nbconvert_exporter": "python",
   "pygments_lexer": "ipython3",
   "version": "3.8.8"
  }
 },
 "nbformat": 4,
 "nbformat_minor": 5
}
